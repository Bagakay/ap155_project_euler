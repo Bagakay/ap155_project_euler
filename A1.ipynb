{
 "cells": [
  {
   "cell_type": "code",
   "execution_count": 1,
   "id": "1113da7e-6214-4b13-b6b4-08d280f2cd57",
   "metadata": {},
   "outputs": [
    {
     "data": {
      "text/plain": [
       "[[9, 9, 4, 9, 2], [1, 2, 9, 2, 1], [5, 3, 6, 9, 4], [5, 2, 5, 2, 9]]"
      ]
     },
     "execution_count": 1,
     "metadata": {},
     "output_type": "execute_result"
    }
   ],
   "source": [
    "import random\n",
    "# Docs: https://docs.python.org/3/library/random.html\n",
    "\n",
    "def random_integer_matrix(nrows, ncols):\n",
    "    output_matrix = []\n",
    "\n",
    "    for col in range(ncols):\n",
    "        new_col = []\n",
    "        for row in range(nrows):\n",
    "            pick_number = random.randint(1, 9)\n",
    "            new_col.append(pick_number)\n",
    "        output_matrix.append(new_col)\n",
    "    return output_matrix\n",
    "\n",
    "\n",
    "random_integer_matrix(5,4)\n"
   ]
  },
  {
   "cell_type": "code",
   "execution_count": 6,
   "id": "4342e15a-98e3-4d37-8d94-03876269ba2b",
   "metadata": {},
   "outputs": [],
   "source": [
    "\n",
    "\n"
   ]
  },
  {
   "cell_type": "code",
   "execution_count": 8,
   "id": "65baf9b9-d168-4ca3-aaf3-bb36f2b87b91",
   "metadata": {},
   "outputs": [
    {
     "data": {
      "text/plain": [
       "32"
      ]
     },
     "execution_count": 8,
     "metadata": {},
     "output_type": "execute_result"
    }
   ],
   "source": []
  },
  {
   "cell_type": "code",
   "execution_count": null,
   "id": "b692dfcd-19a3-48eb-b5df-dbf3a80e9d05",
   "metadata": {},
   "outputs": [],
   "source": []
  }
 ],
 "metadata": {
  "kernelspec": {
   "display_name": "Python 3 (ipykernel)",
   "language": "python",
   "name": "python3"
  },
  "language_info": {
   "codemirror_mode": {
    "name": "ipython",
    "version": 3
   },
   "file_extension": ".py",
   "mimetype": "text/x-python",
   "name": "python",
   "nbconvert_exporter": "python",
   "pygments_lexer": "ipython3",
   "version": "3.12.11"
  }
 },
 "nbformat": 4,
 "nbformat_minor": 5
}
