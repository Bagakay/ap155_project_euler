{
 "cells": [
  {
   "cell_type": "code",
   "execution_count": 1,
   "id": "27f79163-506b-4e2b-bd09-a6c07f540acf",
   "metadata": {},
   "outputs": [
    {
     "name": "stdout",
     "output_type": "stream",
     "text": [
      "0.30000000000000004\n"
     ]
    }
   ],
   "source": [
    "print(0.1+0.2)"
   ]
  },
  {
   "cell_type": "code",
   "execution_count": 3,
   "id": "cdcb0dd4-e057-466c-bc8e-0c2fcd0c0fdd",
   "metadata": {},
   "outputs": [
    {
     "name": "stdout",
     "output_type": "stream",
     "text": [
      "0.30000000000000001665\n"
     ]
    }
   ],
   "source": [
    "import numpy as np\n",
    "\n",
    "print(np.float128(0.1) + (np.float128(0.2)))"
   ]
  },
  {
   "cell_type": "code",
   "execution_count": 6,
   "id": "2ea69481-ddd4-427c-9b67-f812b69bc515",
   "metadata": {},
   "outputs": [
    {
     "name": "stdout",
     "output_type": "stream",
     "text": [
      "0.2998\n"
     ]
    }
   ],
   "source": [
    "print(np.float16(0.1) + (np.float16(0.2)))"
   ]
  },
  {
   "cell_type": "code",
   "execution_count": 8,
   "id": "277843ff-6f0e-4fc5-a37c-1841b66326a5",
   "metadata": {},
   "outputs": [
    {
     "name": "stdout",
     "output_type": "stream",
     "text": [
      "0.3000000000000000166533453694\n"
     ]
    }
   ],
   "source": [
    "from decimal import Decimal\n",
    "from fractions import Fraction\n",
    "print(Decimal(0.1) + Decimal(0.2))"
   ]
  },
  {
   "cell_type": "code",
   "execution_count": 9,
   "id": "a25d7314-df29-4dbf-9f48-f4915c646e1c",
   "metadata": {},
   "outputs": [
    {
     "name": "stdout",
     "output_type": "stream",
     "text": [
      "0.3\n"
     ]
    }
   ],
   "source": [
    "print(float(Fraction(1, 10) + Fraction(1, 5)))\n"
   ]
  },
  {
   "cell_type": "code",
   "execution_count": 10,
   "id": "ef6341a2-9a59-45c3-8e81-9501bf388a2e",
   "metadata": {},
   "outputs": [
    {
     "name": "stdout",
     "output_type": "stream",
     "text": [
      "0.2857142857142857\n"
     ]
    }
   ],
   "source": [
    "print(float(Fraction(1, 7) + Fraction(1, 7)))"
   ]
  },
  {
   "cell_type": "code",
   "execution_count": 13,
   "id": "1af9ac2b-f071-4b41-b294-39bb8b6983f6",
   "metadata": {},
   "outputs": [],
   "source": [
    "a=1\n",
    "c=1\n",
    "b=10e8"
   ]
  },
  {
   "cell_type": "code",
   "execution_count": 14,
   "id": "a634ca56-0562-4ebd-aabc-5891ca978414",
   "metadata": {},
   "outputs": [],
   "source": [
    "x_plus = (-b + np.sqrt(b**2-4*a*c))/(2*a)"
   ]
  },
  {
   "cell_type": "code",
   "execution_count": 16,
   "id": "275fcd93-ecbd-470a-aa2c-137a8081ade6",
   "metadata": {},
   "outputs": [
    {
     "name": "stdout",
     "output_type": "stream",
     "text": [
      "0.0\n"
     ]
    }
   ],
   "source": [
    "print (x_plus)\n"
   ]
  },
  {
   "cell_type": "code",
   "execution_count": 18,
   "id": "74433127-cf4a-4884-b5c9-32d87505b4ff",
   "metadata": {},
   "outputs": [
    {
     "name": "stdout",
     "output_type": "stream",
     "text": [
      "-1000000000.0\n"
     ]
    }
   ],
   "source": [
    "x_minus = (-b - np.sqrt(b**2-4*a*c))/(2*a)\n",
    "print (x_minus)"
   ]
  },
  {
   "cell_type": "code",
   "execution_count": 19,
   "id": "7b171944-61b0-4260-b5b3-fe1da132ca0e",
   "metadata": {},
   "outputs": [
    {
     "name": "stdout",
     "output_type": "stream",
     "text": [
      "-0.0\n"
     ]
    }
   ],
   "source": [
    "print (x_plus*x_minus)"
   ]
  },
  {
   "cell_type": "code",
   "execution_count": 20,
   "id": "f9840d4d-a195-44c5-a5a3-ba736178b2f3",
   "metadata": {},
   "outputs": [
    {
     "name": "stdout",
     "output_type": "stream",
     "text": [
      "0.0 -1e-09\n"
     ]
    }
   ],
   "source": [
    "x_plus_alt = c/(a*x_minus)\n",
    "print (x_plus, x_plus_alt)"
   ]
  },
  {
   "cell_type": "code",
   "execution_count": 25,
   "id": "b510a8da-38c6-4afc-aa58-c75d21c48b1b",
   "metadata": {},
   "outputs": [
    {
     "data": {
      "text/plain": [
       "array([1.e+02, 1.e+03, 1.e+04, 1.e+05, 1.e+06, 1.e+07, 1.e+08])"
      ]
     },
     "execution_count": 25,
     "metadata": {},
     "output_type": "execute_result"
    }
   ],
   "source": [
    "np.logspace(2, 8, 7)"
   ]
  },
  {
   "cell_type": "code",
   "execution_count": 26,
   "id": "a750049b-9cc6-432a-89b7-e49ab95bb610",
   "metadata": {},
   "outputs": [
    {
     "name": "stdout",
     "output_type": "stream",
     "text": [
      "-0.010001000200048793 -0.010001000200050014\n",
      "-0.0010000010000226212 -0.001000001000002\n",
      "-0.00010000000111176632 -0.00010000000100000001\n",
      "-1.0000003385357559e-05 -1.0000000001000001e-05\n",
      "-1.00000761449337e-06 -1.000000000001e-06\n",
      "-9.96515154838562e-08 -1.00000000000001e-07\n",
      "-7.450580596923828e-09 -1e-08\n"
     ]
    }
   ],
   "source": [
    "for b in np.logspace(2, 8, 7):\n",
    "\n",
    "    x_plus = (-b + np.sqrt(b**2-4*a*c))/(2*a)\n",
    "    x_minus = (-b - np.sqrt(b**2-4*a*c))/(2*a)\n",
    "    x_plus_alt = c/(a*x_minus)\n",
    "    print (x_plus, x_plus_alt)"
   ]
  },
  {
   "cell_type": "code",
   "execution_count": 27,
   "id": "32f17ae7-3c9c-41f5-aa29-459f057f7e44",
   "metadata": {},
   "outputs": [],
   "source": [
    "import matplotlib.pyplot as plt\n"
   ]
  },
  {
   "cell_type": "code",
   "execution_count": 38,
   "id": "394a8eec-114e-4f2c-a0d0-86d3b83b0dad",
   "metadata": {},
   "outputs": [
    {
     "name": "stdout",
     "output_type": "stream",
     "text": [
      "b: 0.5\n",
      "c: 0.7709882115452477\n",
      "d: 0.49999999999999994\n"
     ]
    },
    {
     "data": {
      "image/png": "[encoded data removed]",
      "text/plain": [
       "<Figure size 640x480 with 1 Axes>"
      ]
     },
     "metadata": {},
     "output_type": "display_data"
    }
   ],
   "source": [
    "#2.8\n",
    "#a\n",
    "i = np.linspace(1,100,100)\n",
    "x = 0.1*i\n",
    "y = []\n",
    "\n",
    "for a in x:\n",
    "    function = (1 - np.cos(a))/a**2\n",
    "    y.append(function)\n",
    "\n",
    "fig, ax = plt.subplots()\n",
    "ax.plot(x,y)\n",
    "\n",
    "#b\n",
    "print(\"b:\", np.cos(0)/2)\n",
    "\n",
    "#c\n",
    "c = 1.2e-8\n",
    "function = (1-np.cos(c))/c**2\n",
    "print(\"c:\",function)\n",
    "\n",
    "#d\n",
    "answer = np.cos(c)/2\n",
    "print(\"d:\",answer)\n",
    "\n",
    "\n",
    "\n"
   ]
  },
  {
   "cell_type": "code",
   "execution_count": null,
   "id": "48c6d6ae-cf9a-42ab-8175-a9394c9648ea",
   "metadata": {},
   "outputs": [],
   "source": []
  }
 ],
 "metadata": {
  "kernelspec": {
   "display_name": "Python 3 (ipykernel)",
   "language": "python",
   "name": "python3"
  },
  "language_info": {
   "codemirror_mode": {
    "name": "ipython",
    "version": 3
   },
   "file_extension": ".py",
   "mimetype": "text/x-python",
   "name": "python",
   "nbconvert_exporter": "python",
   "pygments_lexer": "ipython3",
   "version": "3.12.11"
  }
 },
 "nbformat": 4,
 "nbformat_minor": 5
}
