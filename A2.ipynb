{
 "cells": [
  {
   "cell_type": "code",
   "execution_count": 1,
   "id": "386da30c-d0fb-4abd-b317-e4d72f8c814e",
   "metadata": {},
   "outputs": [],
   "source": [
    "def scalar_product(list1, list2):\n",
    "    total_product = 0\n",
    "    for i in range(len(list1)):\n",
    "        total_product = total_product + (list1[i] * list2[i])\n",
    "\n",
    "    return total_product\n"
   ]
  },
  {
   "cell_type": "code",
   "execution_count": 2,
   "id": "5a10ec25-d3dc-43b4-b7a5-05584b71e3fc",
   "metadata": {},
   "outputs": [
    {
     "data": {
      "text/plain": [
       "32"
      ]
     },
     "execution_count": 2,
     "metadata": {},
     "output_type": "execute_result"
    }
   ],
   "source": [
    "scalar_product([1,2,3], [4,5,6])"
   ]
  },
  {
   "cell_type": "code",
   "execution_count": null,
   "id": "9eb5b86f-238b-4e1b-8299-b5fa46263cba",
   "metadata": {},
   "outputs": [],
   "source": []
  }
 ],
 "metadata": {
  "kernelspec": {
   "display_name": "Python 3 (ipykernel)",
   "language": "python",
   "name": "python3"
  },
  "language_info": {
   "codemirror_mode": {
    "name": "ipython",
    "version": 3
   },
   "file_extension": ".py",
   "mimetype": "text/x-python",
   "name": "python",
   "nbconvert_exporter": "python",
   "pygments_lexer": "ipython3",
   "version": "3.12.11"
  }
 },
 "nbformat": 4,
 "nbformat_minor": 5
}
