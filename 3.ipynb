{
 "cells": [
  {
   "cell_type": "code",
   "execution_count": null,
   "id": "963ac505-a678-4052-9de4-cdb2ace40a95",
   "metadata": {},
   "outputs": [],
   "source": [
    "#thisisnumber3\n",
    "def is_number_prime(input_number):\n",
    "    divisor = 2\n",
    "    my_factors = []\n",
    "    while divisor < input_number:\n",
    "        remainder = input_number % divisor\n",
    "        if remainder == 0:\n",
    "            my_factors.append(divisor)\n",
    "        divisor = divisor + 1\n",
    "\n",
    "    if len(my_factors) == 0:\n",
    "        return True # it is indeed prime\n",
    "    else:\n",
    "        return False # factors is not empty, so not prime"
   ]
  },
  {
   "cell_type": "code",
   "execution_count": null,
   "id": "60d4e396-5235-478e-a9b3-051d14941498",
   "metadata": {},
   "outputs": [],
   "source": [
    "my_num = 600851475143\n",
    "\n",
    "# starting with 2, iterate up to the number in question\n",
    "# and check which of them will have remainder 0.\n",
    "divisor = 2\n",
    "my_factors = []\n",
    "\n",
    "while divisor < my_num:\n",
    "    remainder = my_num % divisor\n",
    "    if remainder == 0:\n",
    "        my_factors.append(divisor)\n",
    "\n",
    "        if is_number_prime(divisor):\n",
    "            print(divisor)\n",
    "    divisor = divisor + 1\n",
    "\n",
    "# for factor in my_factors:\n",
    "#     if is_number_prime(factor):\n",
    "#         print(factor)"
   ]
  },
  {
   "cell_type": "code",
   "execution_count": null,
   "id": "8f4d5f89-ca59-438c-8e9d-32001c78cffc",
   "metadata": {},
   "outputs": [],
   "source": []
  },
  {
   "cell_type": "code",
   "execution_count": null,
   "id": "a70d0049-8f2a-4632-93cc-5f887fa8d4c1",
   "metadata": {},
   "outputs": [],
   "source": []
  },
  {
   "cell_type": "code",
   "execution_count": null,
   "id": "e3cd7584-cfaf-4777-9101-21255ccfcf83",
   "metadata": {},
   "outputs": [],
   "source": []
  },
  {
   "cell_type": "code",
   "execution_count": null,
   "id": "f768e724-7b28-4845-9807-6c3ca0e9cce1",
   "metadata": {},
   "outputs": [],
   "source": []
  }
 ],
 "metadata": {
  "kernelspec": {
   "display_name": "Python 3 (ipykernel)",
   "language": "python",
   "name": "python3"
  },
  "language_info": {
   "codemirror_mode": {
    "name": "ipython",
    "version": 3
   },
   "file_extension": ".py",
   "mimetype": "text/x-python",
   "name": "python",
   "nbconvert_exporter": "python",
   "pygments_lexer": "ipython3",
   "version": "3.12.11"
  }
 },
 "nbformat": 4,
 "nbformat_minor": 5
}
