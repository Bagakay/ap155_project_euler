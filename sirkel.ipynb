{
 "cells": [
  {
   "cell_type": "code",
   "execution_count": 1,
   "id": "b1817e3d-a382-491b-b1a2-ba045f095185",
   "metadata": {},
   "outputs": [
    {
     "ename": "SyntaxError",
     "evalue": "incomplete input (59772742.py, line 16)",
     "output_type": "error",
     "traceback": [
      "  \u001b[36mCell\u001b[39m\u001b[36m \u001b[39m\u001b[32mIn[1]\u001b[39m\u001b[32m, line 16\u001b[39m\n\u001b[31m    \u001b[39m\u001b[31mif (...):\u001b[39m\n             ^\n\u001b[31mSyntaxError\u001b[39m\u001b[31m:\u001b[39m incomplete input\n"
     ]
    }
   ],
   "source": [
    "import numpy as np\n",
    "import matplotlib.pyplot as plt\n",
    "\n",
    "\n",
    "    \n",
    "\n",
    "t = np.arange(0, 1, 0.0005)\n",
    "circ = np.sqrt(1**2-t**2)\n",
    "\n",
    "\n",
    "fig, ax = plt.subplots()\n",
    "ax.plot (t, circ)\n",
    "for i in range(100):\n",
    "    x_i = np.random.random()\n",
    "    y_i = np.random.random()\n",
    "    if (...):"
   ]
  },
  {
   "cell_type": "code",
   "execution_count": null,
   "id": "081174a0-ea8d-4cbb-b292-4edbb1a43ed0",
   "metadata": {},
   "outputs": [],
   "source": [
    "t = np.arange(0, 1, 0.0005)\n",
    "circ = np.sqrt(1**2-t**2)\n",
    "\n",
    "\n",
    "fig, ax = plt.subplots()\n",
    "ax.plot (t, circ)\n",
    "inside = 0\n",
    "outside = 0\n",
    "\n",
    "for i in range(1000000):\n",
    "    x_i = np.random.random()\n",
    "    y_i = np.random.random()\n",
    "\n",
    "    if x_i**2 + y_i**2 < 1:\n",
    "        \n",
    "        ax.scatter(x_i, y_i)\n",
    "        inside = inside + 1\n",
    "    else :\n",
    "        outside = outside + 1\n",
    "print (4*(inside/(inside+outside)))\n",
    "    \n"
   ]
  },
  {
   "cell_type": "code",
   "execution_count": null,
   "id": "e8f32b20-4f98-4ac2-9ccc-77cd2115debb",
   "metadata": {},
   "outputs": [],
   "source": [
    "x_i = np.random"
   ]
  },
  {
   "cell_type": "code",
   "execution_count": null,
   "id": "32748f55-33c6-4331-ae89-87c6a19713c3",
   "metadata": {},
   "outputs": [],
   "source": []
  },
  {
   "cell_type": "code",
   "execution_count": null,
   "id": "1ede3c4e-9bca-4dbe-b55f-90e7c49502b2",
   "metadata": {},
   "outputs": [],
   "source": []
  }
 ],
 "metadata": {
  "kernelspec": {
   "display_name": "Python 3 (ipykernel)",
   "language": "python",
   "name": "python3"
  },
  "language_info": {
   "codemirror_mode": {
    "name": "ipython",
    "version": 3
   },
   "file_extension": ".py",
   "mimetype": "text/x-python",
   "name": "python",
   "nbconvert_exporter": "python",
   "pygments_lexer": "ipython3",
   "version": "3.12.11"
  }
 },
 "nbformat": 4,
 "nbformat_minor": 5
}
